{
  "nbformat": 4,
  "nbformat_minor": 0,
  "metadata": {
    "colab": {
      "provenance": []
    },
    "kernelspec": {
      "name": "python3",
      "display_name": "Python 3"
    },
    "language_info": {
      "name": "python"
    }
  },
  "cells": [
    {
      "cell_type": "markdown",
      "source": [
        "[bing-image-downloader](https://pypi.org/project/bing-image-downloader/)"
      ],
      "metadata": {
        "id": "Dhs8kNXkD2XT"
      }
    },
    {
      "cell_type": "code",
      "execution_count": 23,
      "metadata": {
        "colab": {
          "base_uri": "https://localhost:8080/"
        },
        "id": "q7kMXhuP_2_2",
        "outputId": "457b3eed-ada7-4fd0-afa6-5abd4292d1f7"
      },
      "outputs": [
        {
          "output_type": "stream",
          "name": "stdout",
          "text": [
            "Requirement already satisfied: bing-image-downloader in /usr/local/lib/python3.10/dist-packages (1.1.2)\n"
          ]
        }
      ],
      "source": [
        "!pip install bing-image-downloader"
      ]
    },
    {
      "cell_type": "code",
      "source": [
        "directory_name=input(\"Any valid Directory Name : \")"
      ],
      "metadata": {
        "colab": {
          "base_uri": "https://localhost:8080/"
        },
        "id": "aLqQUBnvIkYN",
        "outputId": "d850807e-bc77-4be5-89dc-e52acb3e08cc"
      },
      "execution_count": 36,
      "outputs": [
        {
          "name": "stdout",
          "output_type": "stream",
          "text": [
            "Any valid Directory Name : Rifat\n"
          ]
        }
      ]
    },
    {
      "cell_type": "code",
      "source": [
        "!mkdir {directory_name}"
      ],
      "metadata": {
        "colab": {
          "base_uri": "https://localhost:8080/"
        },
        "id": "AEFukL6FHTrZ",
        "outputId": "64740ca4-c09c-458a-fdfc-434af550b385"
      },
      "execution_count": 37,
      "outputs": [
        {
          "output_type": "stream",
          "name": "stdout",
          "text": [
            "mkdir: cannot create directory ‘Rifat’: File exists\n"
          ]
        }
      ]
    },
    {
      "cell_type": "code",
      "source": [
        "directory_name"
      ],
      "metadata": {
        "colab": {
          "base_uri": "https://localhost:8080/",
          "height": 35
        },
        "id": "fsODUOpZJ-86",
        "outputId": "b08cf76a-0822-4395-cc5c-700f56e501f8"
      },
      "execution_count": 38,
      "outputs": [
        {
          "output_type": "execute_result",
          "data": {
            "text/plain": [
              "'Rifat'"
            ],
            "application/vnd.google.colaboratory.intrinsic+json": {
              "type": "string"
            }
          },
          "metadata": {},
          "execution_count": 38
        }
      ]
    },
    {
      "cell_type": "code",
      "source": [
        "def imageGenarator(inputResult,n):\n",
        "  from bing_image_downloader import downloader\n",
        "  downloader.download(inputResult,limit =n,output_dir=directory_name,force_replace=False)"
      ],
      "metadata": {
        "id": "6sGRUVyqBrw0"
      },
      "execution_count": 39,
      "outputs": []
    },
    {
      "cell_type": "code",
      "source": [
        "inputResult=input(\"Search String : \")\n",
        "n=input(\"Number of images you want : \")\n",
        "n=int(n)\n",
        "imageGenarator(inputResult,n)"
      ],
      "metadata": {
        "colab": {
          "base_uri": "https://localhost:8080/"
        },
        "id": "tmfmfY9vCe-9",
        "outputId": "abbc3e96-61bf-45e4-9b56-a91f3328d451"
      },
      "execution_count": 40,
      "outputs": [
        {
          "output_type": "stream",
          "name": "stdout",
          "text": [
            "Search String : Mosque\n",
            "Number of images you want : 10\n",
            "[%] Downloading Images to /content/Rifat/Mosque\n",
            "\n",
            "\n",
            "[!!]Indexing page: 1\n",
            "\n",
            "[%] Indexed 10 Images on Page 1.\n",
            "\n",
            "===============================================\n",
            "\n",
            "[%] Downloading Image #1 from http://perceptivetravel.com/blog/wp-content/Grand-Mosque-Courtyard.jpg\n",
            "[%] File Downloaded !\n",
            "\n",
            "[%] Downloading Image #2 from https://i.redd.it/bvp376fy3hm21.jpg\n",
            "[Error]Invalid image, not saving https://i.redd.it/bvp376fy3hm21.jpg\n",
            "\n",
            "[!] Issue getting: https://i.redd.it/bvp376fy3hm21.jpg\n",
            "[!] Error:: Invalid image, not saving https://i.redd.it/bvp376fy3hm21.jpg\n",
            "\n",
            "[%] Downloading Image #2 from http://thewanderingquinn.com/wp-content/uploads/2015/11/IMG_2079.jpg\n",
            "[%] File Downloaded !\n",
            "\n",
            "[%] Downloading Image #3 from https://www.learnreligions.com/thmb/c7S0ZaaSnOQDpahUjvML_GIgNUc=/5600x3733/filters:fill(auto,1)/united-arab-emirates--abu-dhabi--sheikh-zayed-grand-mosque-on-cloudy-day-528823395-59935f739abed50010c96277.jpg\n",
            "[%] File Downloaded !\n",
            "\n",
            "[%] Downloading Image #4 from http://traveldigg.com/wp-content/uploads/2016/06/Sheikh-Zayed-Grand-Mosque-Photo.jpg\n",
            "[%] File Downloaded !\n",
            "\n",
            "[%] Downloading Image #5 from http://traveldigg.com/wp-content/uploads/2016/06/Sheikh-Zayed-Grand-Mosque-Photo-From-Top.jpg\n",
            "[%] File Downloaded !\n",
            "\n",
            "[%] Downloading Image #6 from https://3.bp.blogspot.com/-WNGJi2O3gI4/T272MJgEZ4I/AAAAAAAAECc/RM0K82_H7MA/s1600/Sheikh_Zayed_Mosque_Abu_Dhabi-1dynrho.jpg\n",
            "[%] File Downloaded !\n",
            "\n",
            "[%] Downloading Image #7 from http://www.live-travel-blog.com/wp-content/uploads/2015/06/311.jpg\n",
            "[%] File Downloaded !\n",
            "\n",
            "[%] Downloading Image #8 from http://www.live-travel-blog.com/wp-content/uploads/2015/06/321.jpg\n",
            "[%] File Downloaded !\n",
            "\n",
            "[%] Downloading Image #9 from https://share.america.gov/wp-content/uploads/2015/07/GettyImages-56077869.jpg\n",
            "[%] File Downloaded !\n",
            "\n",
            "\n",
            "\n",
            "[!!]Indexing page: 2\n",
            "\n",
            "[%] Indexed 35 Images on Page 2.\n",
            "\n",
            "===============================================\n",
            "\n",
            "[%] Downloading Image #10 from https://www.parhlo.com/wp-content/uploads/2015/08/kazan_mosque_kul_sharif_sky-1920x1440.jpg\n",
            "[%] File Downloaded !\n",
            "\n",
            "\n",
            "\n",
            "[%] Done. Downloaded 10 images.\n"
          ]
        }
      ]
    }
  ]
}
